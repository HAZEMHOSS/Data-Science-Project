{
 "cells": [
  {
   "cell_type": "markdown",
   "id": "85ac40e3",
   "metadata": {},
   "source": [
    "# Assignment 1\n",
    "\n",
    "_This notebook contains a structured data science workflow._"
   ]
  },
  {
   "cell_type": "markdown",
   "id": "e14eb213",
   "metadata": {},
   "source": [
    "## 📌 Objective\n",
    "Brief description of the project goals and problem statement."
   ]
  },
  {
   "cell_type": "markdown",
   "id": "06caf3b1",
   "metadata": {},
   "source": [
    "## 📁 Import Libraries\n",
    "# Step 1: Import Required Libraries"
   ]
  },
  {
   "cell_type": "code",
   "execution_count": 2,
   "metadata": {
    "_cell_guid": "b1076dfc-b9ad-4769-8c92-a6c4dae69d19",
    "_uuid": "8f2839f25d086af736a60e9eeb907d3b93b6e0e5",
    "execution": {
     "iopub.execute_input": "2025-04-19T19:34:05.014814Z",
     "iopub.status.busy": "2025-04-19T19:34:05.014609Z",
     "iopub.status.idle": "2025-04-19T19:34:05.126906Z",
     "shell.execute_reply": "2025-04-19T19:34:05.126109Z",
     "shell.execute_reply.started": "2025-04-19T19:34:05.014795Z"
    }
   },
   "outputs": [
    {
     "name": "stdout",
     "output_type": "stream",
     "text": [
      "/kaggle/input/superstore1/Sample - Superstore.csv\n"
     ]
    },
    {
     "data": {
      "text/html": [
       "<div>\n",
       "<style scoped>\n",
       "    .dataframe tbody tr th:only-of-type {\n",
       "        vertical-align: middle;\n",
       "    }\n",
       "\n",
       "    .dataframe tbody tr th {\n",
       "        vertical-align: top;\n",
       "    }\n",
       "\n",
       "    .dataframe thead th {\n",
       "        text-align: right;\n",
       "    }\n",
       "</style>\n",
       "<table border=\"1\" class=\"dataframe\">\n",
       "  <thead>\n",
       "    <tr style=\"text-align: right;\">\n",
       "      <th></th>\n",
       "      <th>Row ID</th>\n",
       "      <th>Order ID</th>\n",
       "      <th>Order Date</th>\n",
       "      <th>Ship Date</th>\n",
       "      <th>Ship Mode</th>\n",
       "      <th>Customer ID</th>\n",
       "      <th>Customer Name</th>\n",
       "      <th>Segment</th>\n",
       "      <th>Country</th>\n",
       "      <th>City</th>\n",
       "      <th>...</th>\n",
       "      <th>Postal Code</th>\n",
       "      <th>Region</th>\n",
       "      <th>Product ID</th>\n",
       "      <th>Category</th>\n",
       "      <th>Sub-Category</th>\n",
       "      <th>Product Name</th>\n",
       "      <th>Sales</th>\n",
       "      <th>Quantity</th>\n",
       "      <th>Discount</th>\n",
       "      <th>Profit</th>\n",
       "    </tr>\n",
       "  </thead>\n",
       "  <tbody>\n",
       "    <tr>\n",
       "      <th>0</th>\n",
       "      <td>1</td>\n",
       "      <td>CA-2016-152156</td>\n",
       "      <td>11/8/2016</td>\n",
       "      <td>11/11/2016</td>\n",
       "      <td>Second Class</td>\n",
       "      <td>CG-12520</td>\n",
       "      <td>Claire Gute</td>\n",
       "      <td>Consumer</td>\n",
       "      <td>United States</td>\n",
       "      <td>Henderson</td>\n",
       "      <td>...</td>\n",
       "      <td>42420</td>\n",
       "      <td>South</td>\n",
       "      <td>FUR-BO-10001798</td>\n",
       "      <td>Furniture</td>\n",
       "      <td>Bookcases</td>\n",
       "      <td>Bush Somerset Collection Bookcase</td>\n",
       "      <td>261.9600</td>\n",
       "      <td>2</td>\n",
       "      <td>0.00</td>\n",
       "      <td>41.9136</td>\n",
       "    </tr>\n",
       "    <tr>\n",
       "      <th>1</th>\n",
       "      <td>2</td>\n",
       "      <td>CA-2016-152156</td>\n",
       "      <td>11/8/2016</td>\n",
       "      <td>11/11/2016</td>\n",
       "      <td>Second Class</td>\n",
       "      <td>CG-12520</td>\n",
       "      <td>Claire Gute</td>\n",
       "      <td>Consumer</td>\n",
       "      <td>United States</td>\n",
       "      <td>Henderson</td>\n",
       "      <td>...</td>\n",
       "      <td>42420</td>\n",
       "      <td>South</td>\n",
       "      <td>FUR-CH-10000454</td>\n",
       "      <td>Furniture</td>\n",
       "      <td>Chairs</td>\n",
       "      <td>Hon Deluxe Fabric Upholstered Stacking Chairs,...</td>\n",
       "      <td>731.9400</td>\n",
       "      <td>3</td>\n",
       "      <td>0.00</td>\n",
       "      <td>219.5820</td>\n",
       "    </tr>\n",
       "    <tr>\n",
       "      <th>2</th>\n",
       "      <td>3</td>\n",
       "      <td>CA-2016-138688</td>\n",
       "      <td>6/12/2016</td>\n",
       "      <td>6/16/2016</td>\n",
       "      <td>Second Class</td>\n",
       "      <td>DV-13045</td>\n",
       "      <td>Darrin Van Huff</td>\n",
       "      <td>Corporate</td>\n",
       "      <td>United States</td>\n",
       "      <td>Los Angeles</td>\n",
       "      <td>...</td>\n",
       "      <td>90036</td>\n",
       "      <td>West</td>\n",
       "      <td>OFF-LA-10000240</td>\n",
       "      <td>Office Supplies</td>\n",
       "      <td>Labels</td>\n",
       "      <td>Self-Adhesive Address Labels for Typewriters b...</td>\n",
       "      <td>14.6200</td>\n",
       "      <td>2</td>\n",
       "      <td>0.00</td>\n",
       "      <td>6.8714</td>\n",
       "    </tr>\n",
       "    <tr>\n",
       "      <th>3</th>\n",
       "      <td>4</td>\n",
       "      <td>US-2015-108966</td>\n",
       "      <td>10/11/2015</td>\n",
       "      <td>10/18/2015</td>\n",
       "      <td>Standard Class</td>\n",
       "      <td>SO-20335</td>\n",
       "      <td>Sean O'Donnell</td>\n",
       "      <td>Consumer</td>\n",
       "      <td>United States</td>\n",
       "      <td>Fort Lauderdale</td>\n",
       "      <td>...</td>\n",
       "      <td>33311</td>\n",
       "      <td>South</td>\n",
       "      <td>FUR-TA-10000577</td>\n",
       "      <td>Furniture</td>\n",
       "      <td>Tables</td>\n",
       "      <td>Bretford CR4500 Series Slim Rectangular Table</td>\n",
       "      <td>957.5775</td>\n",
       "      <td>5</td>\n",
       "      <td>0.45</td>\n",
       "      <td>-383.0310</td>\n",
       "    </tr>\n",
       "    <tr>\n",
       "      <th>4</th>\n",
       "      <td>5</td>\n",
       "      <td>US-2015-108966</td>\n",
       "      <td>10/11/2015</td>\n",
       "      <td>10/18/2015</td>\n",
       "      <td>Standard Class</td>\n",
       "      <td>SO-20335</td>\n",
       "      <td>Sean O'Donnell</td>\n",
       "      <td>Consumer</td>\n",
       "      <td>United States</td>\n",
       "      <td>Fort Lauderdale</td>\n",
       "      <td>...</td>\n",
       "      <td>33311</td>\n",
       "      <td>South</td>\n",
       "      <td>OFF-ST-10000760</td>\n",
       "      <td>Office Supplies</td>\n",
       "      <td>Storage</td>\n",
       "      <td>Eldon Fold 'N Roll Cart System</td>\n",
       "      <td>22.3680</td>\n",
       "      <td>2</td>\n",
       "      <td>0.20</td>\n",
       "      <td>2.5164</td>\n",
       "    </tr>\n",
       "  </tbody>\n",
       "</table>\n",
       "<p>5 rows × 21 columns</p>\n",
       "</div>"
      ],
      "text/plain": [
       "   Row ID        Order ID  Order Date   Ship Date       Ship Mode Customer ID  \\\n",
       "0       1  CA-2016-152156   11/8/2016  11/11/2016    Second Class    CG-12520   \n",
       "1       2  CA-2016-152156   11/8/2016  11/11/2016    Second Class    CG-12520   \n",
       "2       3  CA-2016-138688   6/12/2016   6/16/2016    Second Class    DV-13045   \n",
       "3       4  US-2015-108966  10/11/2015  10/18/2015  Standard Class    SO-20335   \n",
       "4       5  US-2015-108966  10/11/2015  10/18/2015  Standard Class    SO-20335   \n",
       "\n",
       "     Customer Name    Segment        Country             City  ...  \\\n",
       "0      Claire Gute   Consumer  United States        Henderson  ...   \n",
       "1      Claire Gute   Consumer  United States        Henderson  ...   \n",
       "2  Darrin Van Huff  Corporate  United States      Los Angeles  ...   \n",
       "3   Sean O'Donnell   Consumer  United States  Fort Lauderdale  ...   \n",
       "4   Sean O'Donnell   Consumer  United States  Fort Lauderdale  ...   \n",
       "\n",
       "  Postal Code  Region       Product ID         Category Sub-Category  \\\n",
       "0       42420   South  FUR-BO-10001798        Furniture    Bookcases   \n",
       "1       42420   South  FUR-CH-10000454        Furniture       Chairs   \n",
       "2       90036    West  OFF-LA-10000240  Office Supplies       Labels   \n",
       "3       33311   South  FUR-TA-10000577        Furniture       Tables   \n",
       "4       33311   South  OFF-ST-10000760  Office Supplies      Storage   \n",
       "\n",
       "                                        Product Name     Sales  Quantity  \\\n",
       "0                  Bush Somerset Collection Bookcase  261.9600         2   \n",
       "1  Hon Deluxe Fabric Upholstered Stacking Chairs,...  731.9400         3   \n",
       "2  Self-Adhesive Address Labels for Typewriters b...   14.6200         2   \n",
       "3      Bretford CR4500 Series Slim Rectangular Table  957.5775         5   \n",
       "4                     Eldon Fold 'N Roll Cart System   22.3680         2   \n",
       "\n",
       "   Discount    Profit  \n",
       "0      0.00   41.9136  \n",
       "1      0.00  219.5820  \n",
       "2      0.00    6.8714  \n",
       "3      0.45 -383.0310  \n",
       "4      0.20    2.5164  \n",
       "\n",
       "[5 rows x 21 columns]"
      ]
     },
     "execution_count": 2,
     "metadata": {},
     "output_type": "execute_result"
    }
   ],
   "source": [
    "# Import libraries\n",
    "import numpy as np\n",
    "import pandas as pd\n",
    "import os\n",
    "\n",
    "# Locate the dataset file\n",
    "for dirname, _, filenames in os.walk('/kaggle/input'):\n",
    "    for filename in filenames:\n",
    "        print(os.path.join(dirname, filename))\n",
    "\n",
    "# Load the dataset with correct encoding\n",
    "df = pd.read_csv('/kaggle/input/superstore1/Sample - Superstore.csv', encoding='latin1')\n",
    "\n",
    "# Display first few rows\n",
    "df.head()"
   ]
  },
  {
   "cell_type": "markdown",
   "id": "787857ef",
   "metadata": {},
   "source": [
    "## 📊 Load Dataset\n",
    "# Step 2: Load and Preview Dataset"
   ]
  },
  {
   "cell_type": "code",
   "execution_count": 3,
   "metadata": {
    "execution": {
     "iopub.execute_input": "2025-04-19T19:35:39.444967Z",
     "iopub.status.busy": "2025-04-19T19:35:39.444672Z",
     "iopub.status.idle": "2025-04-19T19:35:39.554968Z",
     "shell.execute_reply": "2025-04-19T19:35:39.554073Z",
     "shell.execute_reply.started": "2025-04-19T19:35:39.444946Z"
    }
   },
   "outputs": [
    {
     "name": "stdout",
     "output_type": "stream",
     "text": [
      "<class 'pandas.core.frame.DataFrame'>\n",
      "RangeIndex: 9994 entries, 0 to 9993\n",
      "Data columns (total 21 columns):\n",
      " #   Column         Non-Null Count  Dtype  \n",
      "---  ------         --------------  -----  \n",
      " 0   Row ID         9994 non-null   int64  \n",
      " 1   Order ID       9994 non-null   object \n",
      " 2   Order Date     9994 non-null   object \n",
      " 3   Ship Date      9994 non-null   object \n",
      " 4   Ship Mode      9994 non-null   object \n",
      " 5   Customer ID    9994 non-null   object \n",
      " 6   Customer Name  9994 non-null   object \n",
      " 7   Segment        9994 non-null   object \n",
      " 8   Country        9994 non-null   object \n",
      " 9   City           9994 non-null   object \n",
      " 10  State          9994 non-null   object \n",
      " 11  Postal Code    9994 non-null   int64  \n",
      " 12  Region         9994 non-null   object \n",
      " 13  Product ID     9994 non-null   object \n",
      " 14  Category       9994 non-null   object \n",
      " 15  Sub-Category   9994 non-null   object \n",
      " 16  Product Name   9994 non-null   object \n",
      " 17  Sales          9994 non-null   float64\n",
      " 18  Quantity       9994 non-null   int64  \n",
      " 19  Discount       9994 non-null   float64\n",
      " 20  Profit         9994 non-null   float64\n",
      "dtypes: float64(3), int64(3), object(15)\n",
      "memory usage: 1.6+ MB\n"
     ]
    },
    {
     "data": {
      "text/plain": [
       "0"
      ]
     },
     "execution_count": 3,
     "metadata": {},
     "output_type": "execute_result"
    }
   ],
   "source": [
    "# Basic info\n",
    "df.info()\n",
    "\n",
    "# Preview data\n",
    "df.head()\n",
    "\n",
    "# Summary statistics\n",
    "df.describe(include='all')\n",
    "\n",
    "# Check for missing values\n",
    "df.isnull().sum()\n",
    "\n",
    "# Check for duplicates\n",
    "df.duplicated().sum()"
   ]
  },
  {
   "cell_type": "markdown",
   "id": "b07f8274",
   "metadata": {},
   "source": [
    "## 📈 Exploratory Data Analysis\n",
    "# Step 3: Exploratory Data Analysis (EDA)"
   ]
  },
  {
   "cell_type": "code",
   "execution_count": 11,
   "metadata": {
    "execution": {
     "iopub.execute_input": "2025-04-19T20:01:20.554924Z",
     "iopub.status.busy": "2025-04-19T20:01:20.554025Z",
     "iopub.status.idle": "2025-04-19T20:01:22.598980Z",
     "shell.execute_reply": "2025-04-19T20:01:22.598070Z",
     "shell.execute_reply.started": "2025-04-19T20:01:20.554895Z"
    }
   },
   "outputs": [
    {
     "name": "stdout",
     "output_type": "stream",
     "text": [
      "=== Method 1: Basic Clean + Date Features ===\n",
      "Accuracy : 0.9297597042513863\n",
      "Precision: 0.9337094499294781\n",
      "Recall   : 0.9851190476190477\n",
      "F1 Score : 0.9587255611875451\n",
      "Confusion Matrix:\n",
      " [[ 185   94]\n",
      " [  20 1324]]\n"
     ]
    }
   ],
   "source": [
    "# METHOD 1\n",
    "import pandas as pd\n",
    "from sklearn.ensemble import RandomForestClassifier\n",
    "from sklearn.model_selection import train_test_split\n",
    "from sklearn.metrics import accuracy_score, precision_score, recall_score, f1_score, confusion_matrix\n",
    "\n",
    "# 1) Load & basic drop\n",
    "df = pd.read_csv('/kaggle/input/superstore1/Sample - Superstore.csv', encoding='latin1')\n",
    "df1 = df.drop(columns=[\n",
    "    'Row ID','Order ID','Customer ID','Product ID',\n",
    "    'Customer Name','Product Name','Postal Code','Country'\n",
    "])\n",
    "\n",
    "# 2) Date → numeric\n",
    "df1['Order Date'] = pd.to_datetime(df1['Order Date'])\n",
    "df1['Ship Date']  = pd.to_datetime(df1['Ship Date'])\n",
    "df1['Order Month'] = df1['Order Date'].dt.month\n",
    "df1['Ship Delay']  = (df1['Ship Date'] - df1['Order Date']).dt.days\n",
    "df1 = df1.drop(columns=['Order Date','Ship Date'])\n",
    "\n",
    "# 3) Trim Profit outliers (IQR)\n",
    "Q1, Q3 = df1['Profit'].quantile([0.25,0.75])\n",
    "IQR   = Q3 - Q1\n",
    "df1 = df1[(df1['Profit'] >= Q1 - 1.5*IQR) & (df1['Profit'] <= Q3 + 1.5*IQR)]\n",
    "\n",
    "# 4) Target & one‑hot encode\n",
    "df1['Profitable'] = (df1['Profit'] > 0).astype(int)\n",
    "X1 = pd.get_dummies(df1.drop(['Profit','Profitable'], axis=1), drop_first=True)\n",
    "y1 = df1['Profitable']\n",
    "\n",
    "# 5) Train/Test split & model\n",
    "X1_train, X1_test, y1_train, y1_test = train_test_split(\n",
    "    X1, y1, test_size=0.2, random_state=42\n",
    ")\n",
    "clf1 = RandomForestClassifier(random_state=42)\n",
    "clf1.fit(X1_train, y1_train)\n",
    "y1_pred = clf1.predict(X1_test)\n",
    "\n",
    "# 6) Print Method 1 metrics\n",
    "print(\"=== Method 1: Basic Clean + Date Features ===\")\n",
    "print(\"Accuracy :\", accuracy_score(y1_test, y1_pred))\n",
    "print(\"Precision:\", precision_score(y1_test, y1_pred))\n",
    "print(\"Recall   :\", recall_score(y1_test, y1_pred))\n",
    "print(\"F1 Score :\", f1_score(y1_test, y1_pred))\n",
    "print(\"Confusion Matrix:\\n\", confusion_matrix(y1_test, y1_pred))"
   ]
  },
  {
   "cell_type": "markdown",
   "id": "0291106e",
   "metadata": {},
   "source": [
    "## 🧹 Data Cleaning & Preprocessing\n",
    "# Step 4: Data Cleaning and Preprocessing"
   ]
  },
  {
   "cell_type": "code",
   "execution_count": 15,
   "metadata": {
    "execution": {
     "iopub.execute_input": "2025-04-19T20:04:22.673387Z",
     "iopub.status.busy": "2025-04-19T20:04:22.673030Z",
     "iopub.status.idle": "2025-04-19T20:04:25.490934Z",
     "shell.execute_reply": "2025-04-19T20:04:25.489908Z",
     "shell.execute_reply.started": "2025-04-19T20:04:22.673364Z"
    }
   },
   "outputs": [
    {
     "name": "stdout",
     "output_type": "stream",
     "text": [
      "=== Method 2: Label Encode + Feature Eng. (fixed) ===\n",
      "Accuracy : 0.9449724862431216\n",
      "Precision: 0.9468085106382979\n",
      "Recall   : 0.9876695437731196\n",
      "F1 Score : 0.9668074834037416\n",
      "Confusion Matrix:\n",
      " [[ 287   90]\n",
      " [  20 1602]]\n"
     ]
    }
   ],
   "source": [
    "# METHOD 2 \n",
    "import pandas as pd\n",
    "from sklearn.preprocessing import LabelEncoder\n",
    "from sklearn.ensemble import RandomForestClassifier\n",
    "from sklearn.model_selection import train_test_split\n",
    "from sklearn.metrics import accuracy_score, precision_score, recall_score, f1_score, confusion_matrix\n",
    "\n",
    "# 1) Load and copy\n",
    "df = pd.read_csv('/kaggle/input/superstore1/Sample - Superstore.csv', encoding='latin1')\n",
    "df2 = df.copy()\n",
    "\n",
    "# 2) Label-encode core categoricals\n",
    "le = LabelEncoder()\n",
    "for col in ['Ship Mode','Segment','Region','Category','Sub-Category']:\n",
    "    df2[col] = le.fit_transform(df2[col])\n",
    "\n",
    "# 3) Date → numeric features\n",
    "df2['Order Date'] = pd.to_datetime(df2['Order Date'])\n",
    "df2['Ship Date']  = pd.to_datetime(df2['Ship Date'])\n",
    "df2['Order Month'] = df2['Order Date'].dt.month\n",
    "df2['Ship Delay']  = (df2['Ship Date'] - df2['Order Date']).dt.days\n",
    "\n",
    "# 4) Drop unneeded columns\n",
    "drop_cols = [\n",
    "    'Row ID','Order ID','Customer ID','Product ID',\n",
    "    'Customer Name','Product Name','Postal Code','Country',\n",
    "    'Order Date','Ship Date','Profit'\n",
    "]\n",
    "df2 = df2.drop(columns=drop_cols)\n",
    "\n",
    "# 5) Define target\n",
    "df2['Profitable'] = (df['Profit'] > 0).astype(int)\n",
    "X2 = df2.drop('Profitable', axis=1)\n",
    "y2 = df2['Profitable']\n",
    "\n",
    "# — FIX: One‑hot encode ANY leftover categorical—\n",
    "X2 = pd.get_dummies(X2, drop_first=True)\n",
    "\n",
    "# 6) Train/Test split & model\n",
    "X2_train, X2_test, y2_train, y2_test = train_test_split(\n",
    "    X2, y2, test_size=0.2, random_state=42\n",
    ")\n",
    "clf2 = RandomForestClassifier(random_state=42)\n",
    "clf2.fit(X2_train, y2_train)\n",
    "y2_pred = clf2.predict(X2_test)\n",
    "\n",
    "# 7) Print Method 2 metrics\n",
    "print(\"=== Method 2: Label Encode + Feature Eng. (fixed) ===\")\n",
    "print(\"Accuracy :\", accuracy_score(y2_test, y2_pred))\n",
    "print(\"Precision:\", precision_score(y2_test, y2_pred))\n",
    "print(\"Recall   :\", recall_score(y2_test, y2_pred))\n",
    "print(\"F1 Score :\", f1_score(y2_test, y2_pred))\n",
    "print(\"Confusion Matrix:\\n\", confusion_matrix(y2_test, y2_pred))\n"
   ]
  },
  {
   "cell_type": "markdown",
   "id": "a1798a4c",
   "metadata": {},
   "source": [
    "## 🤖 Modeling\n",
    "# Step 5: Model Selection and Training"
   ]
  },
  {
   "cell_type": "code",
   "execution_count": 16,
   "metadata": {
    "execution": {
     "iopub.execute_input": "2025-04-19T20:04:49.548358Z",
     "iopub.status.busy": "2025-04-19T20:04:49.548059Z",
     "iopub.status.idle": "2025-04-19T20:04:49.576693Z",
     "shell.execute_reply": "2025-04-19T20:04:49.575488Z",
     "shell.execute_reply.started": "2025-04-19T20:04:49.548337Z"
    }
   },
   "outputs": [
    {
     "name": "stdout",
     "output_type": "stream",
     "text": [
      "=== Model Comparison ===\n",
      "                        Method  Accuracy  Precision    Recall  F1 Score\n",
      "0  Basic Clean + Date Features  0.929760   0.933709  0.985119  0.958726\n",
      "1  Label Encode + Feature Eng.  0.944972   0.946809  0.987670  0.966807\n"
     ]
    }
   ],
   "source": [
    "# Evaluation Block\n",
    "\n",
    "import pandas as pd\n",
    "\n",
    "# Collect metrics from each run\n",
    "metrics = {\n",
    "    'Method': [\n",
    "        'Basic Clean + Date Features',\n",
    "        'Label Encode + Feature Eng.'\n",
    "    ],\n",
    "    'Accuracy': [\n",
    "        accuracy_score(y1_test, y1_pred),\n",
    "        accuracy_score(y2_test, y2_pred)\n",
    "    ],\n",
    "    'Precision': [\n",
    "        precision_score(y1_test, y1_pred),\n",
    "        precision_score(y2_test, y2_pred)\n",
    "    ],\n",
    "    'Recall': [\n",
    "        recall_score(y1_test, y1_pred),\n",
    "        recall_score(y2_test, y2_pred)\n",
    "    ],\n",
    "    'F1 Score': [\n",
    "        f1_score(y1_test, y1_pred),\n",
    "        f1_score(y2_test, y2_pred)\n",
    "    ]\n",
    "}\n",
    "\n",
    "# Build DataFrame and display\n",
    "comparison_df = pd.DataFrame(metrics)\n",
    "print(\"=== Model Comparison ===\")\n",
    "print(comparison_df)\n"
   ]
  },
  {
   "cell_type": "markdown",
   "id": "a7ad0646",
   "metadata": {},
   "source": [
    "## 📉 Evaluation\n",
    "# Step 6: Model Evaluation"
   ]
  },
  {
   "cell_type": "markdown",
   "id": "b773326a",
   "metadata": {},
   "source": [
    "## ✅ Conclusion\n",
    "# Step 7: Conclusion and Future Work"
   ]
  }
 ],
 "metadata": {
  "kaggle": {
   "accelerator": "none",
   "dataSources": [
    {
     "datasetId": 7193873,
     "sourceId": 11478004,
     "sourceType": "datasetVersion"
    }
   ],
   "dockerImageVersionId": 31012,
   "isGpuEnabled": false,
   "isInternetEnabled": false,
   "language": "python",
   "sourceType": "notebook"
  },
  "kernelspec": {
   "display_name": "Python 3",
   "language": "python",
   "name": "python3"
  },
  "language_info": {
   "codemirror_mode": {
    "name": "ipython",
    "version": 3
   },
   "file_extension": ".py",
   "mimetype": "text/x-python",
   "name": "python",
   "nbconvert_exporter": "python",
   "pygments_lexer": "ipython3",
   "version": "3.11.11"
  }
 },
 "nbformat": 4,
 "nbformat_minor": 4
}
